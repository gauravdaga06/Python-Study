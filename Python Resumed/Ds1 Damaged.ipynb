{
 "cells": [
  {
   "cell_type": "code",
   "execution_count": 2,
   "metadata": {},
   "outputs": [
    {
     "name": "stdout",
     "output_type": "stream",
     "text": [
      "6\n"
     ]
    }
   ],
   "source": [
    "num=[1,2,3,4,5,6,7,8,9]\n",
    "print(num.index(7))"
   ]
  },
  {
   "cell_type": "code",
   "execution_count": 2,
   "metadata": {},
   "outputs": [
    {
     "name": "stdout",
     "output_type": "stream",
     "text": [
      "[2, 4, 6, 8, 10, 12, 14, 16, 18, 20]\n"
     ]
    }
   ],
   "source": [
    "div=[]\n",
    "for i in range(1,21):\n",
    "    if(i%2==0 or i%4==0):\n",
    "        div.append(i)\n",
    "print(div)"
   ]
  },
  {
   "cell_type": "code",
   "execution_count": 6,
   "metadata": {},
   "outputs": [
    {
     "name": "stdout",
     "output_type": "stream",
     "text": [
      "List of Square from 1 to 10 =  [1, 4, 9, 16, 25, 36, 49, 64, 81, 100]\n",
      "Sum of List  =  385\n"
     ]
    }
   ],
   "source": [
    "def square(x):\n",
    "    return(x**2)\n",
    "sq=[]\n",
    "for i in range(1,11):\n",
    "    z=square(i)\n",
    "    sq.append(z)\n",
    "print(\"List of Square from 1 to 10 = \",sq)\n",
    "\n",
    "print(\"Sum of List  = \",sum(sq))"
   ]
  },
  {
   "cell_type": "code",
   "execution_count": null,
   "metadata": {},
   "outputs": [],
   "source": [
    " bricks=[\"brazil\",\"russia\",\"india\",\"china\",\"sri lanka\"]\n",
    "country=str(input(\"Enter The Country to check:\"))\n",
    "if country in bricks:\n",
    "    print(country,\"is a Member of BRICKS\")\n",
    "else:\n",
    "    print(\"NOT a Member of BRICKS\")\n",
    "    \n",
    "   "
   ]
  },
  {
   "cell_type": "raw",
   "metadata": {},
   "source": []
  },
  {
   "cell_type": "code",
   "execution_count": null,
   "metadata": {},
   "outputs": [],
   "source": [
    "bricks=[\"brazil\",\"russia\",\"india\",\"china\",\"sri lanka\"]\n",
    "country=str(input(\"Enter The Country to check:\"))\n",
    "if country in bricks:\n",
    "    print(country,\"is a Member of BRICKS\")\n",
    "else:\n",
    "    print(\"NOT a Member of BRICKS\")\n",
    "    \n",
    "   "
   ]
  },
  {
   "cell_type": "code",
   "execution_count": null,
   "metadata": {},
   "outputs": [],
   "source": [
    "print(\"14646\")"
   ]
  },
  {
   "cell_type": "code",
   "execution_count": null,
   "metadata": {},
   "outputs": [],
   "source": []
  },
  {
   "cell_type": "code",
   "execution_count": null,
   "metadata": {},
   "outputs": [],
   "source": []
  },
  {
   "cell_type": "code",
   "execution_count": null,
   "metadata": {},
   "outputs": [],
   "source": [
    "  "
   ]
  },
  {
   "cell_type": "code",
   "execution_count": null,
   "metadata": {},
   "outputs": [],
   "source": []
  }
 ],
 "metadata": {
  "kernelspec": {
   "display_name": "Python 3",
   "language": "python",
   "name": "python3"
  },
  "language_info": {
   "codemirror_mode": {
    "name": "ipython",
    "version": 3
   },
   "file_extension": ".py",
   "mimetype": "text/x-python",
   "name": "python",
   "nbconvert_exporter": "python",
   "pygments_lexer": "ipython3",
   "version": "3.8.3"
  }
 },
 "nbformat": 4,
 "nbformat_minor": 4
}
