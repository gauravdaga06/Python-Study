{
 "cells": [
  {
   "cell_type": "code",
   "execution_count": 5,
   "metadata": {},
   "outputs": [
    {
     "name": "stdout",
     "output_type": "stream",
     "text": [
      "Enter The Country to check:inDia\n",
      "inDia is a Member of BRICKS\n"
     ]
    }
   ],
   "source": [
    "bricks=[\"brazil\",\"russia\",\"india\",\"china\",\"sri lanka\"]\n",
    "country=str(input(\"Enter The Country to check:\"))\n",
    "if country.lower() in bricks:\n",
    "    print(country,\"is a Member of BRICKS\")\n",
    "else:\n",
    "    print(\"NOT a Member of BRICKS\")\n",
    "    \n",
    " "
   ]
  },
  {
   "cell_type": "code",
   "execution_count": 12,
   "metadata": {},
   "outputs": [
    {
     "name": "stdout",
     "output_type": "stream",
     "text": [
      "Origional List: [1, 2, 3, 4, 5, 6, 7, 8, 9, 10]\n",
      "[1, 3, 5, 7, 9]\n"
     ]
    }
   ],
   "source": [
    "num=[]\n",
    "for i in range(1,11):\n",
    "    num.append(i)\n",
    "print(\"Origional List:\",num)\n",
    "for index,i in enumerate(num):\n",
    "    if(i%2==0):\n",
    "        del num[index]\n",
    "print(num)"
   ]
  },
  {
   "cell_type": "code",
   "execution_count": null,
   "metadata": {},
   "outputs": [
    {
     "name": "stdout",
     "output_type": "stream",
     "text": [
      "Enter the Value to Search in list:4\n"
     ]
    }
   ],
   "source": [
    "num=[1,2,3,4,5,6,5,4,3,2,1,4,1,6]\n",
    "x= input(\"Enter the Value to Search in list:\")\n",
    "i=0\n",
    "count=0\n",
    "while i<len(num):\n",
    "    if x==num[i]:\n",
    "        print(x,\" is found at \",i)\n",
    "        count+=1\n",
    "i+=1\n",
    "print(x,\" is found \",count,\" times in list \\n\",num)\n",
    "    "
   ]
  },
  {
   "cell_type": "code",
   "execution_count": null,
   "metadata": {},
   "outputs": [],
   "source": [
    "num=[1,2,3,4,5,6,5,4,3,2,1,4,1,6]\n",
    "x= input(\"Enter the Value to Search in list:\")\n",
    "i=0\n",
    "count=0\n",
    "while i<len(num):\n",
    "    if x==num[i]:\n",
    "        print(x,\" is found at \",i)\n",
    "        count+=1\n",
    "i+=1\n",
    "print(x,\" is found \",count,\" times in list \\n\",num)\n"
   ]
  }
 ],
 "metadata": {
  "kernelspec": {
   "display_name": "Python 3",
   "language": "python",
   "name": "python3"
  },
  "language_info": {
   "codemirror_mode": {
    "name": "ipython",
    "version": 3
   },
   "file_extension": ".py",
   "mimetype": "text/x-python",
   "name": "python",
   "nbconvert_exporter": "python",
   "pygments_lexer": "ipython3",
   "version": "3.8.3"
  }
 },
 "nbformat": 4,
 "nbformat_minor": 4
}
