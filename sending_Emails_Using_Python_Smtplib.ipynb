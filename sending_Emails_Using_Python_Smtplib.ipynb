{
  "nbformat": 4,
  "nbformat_minor": 0,
  "metadata": {
    "colab": {
      "name": "sending_Emails_Using_Python_Smtplib",
      "provenance": [],
      "authorship_tag": "ABX9TyNXL1plf5OVsC/FF1FHwmo7",
      "include_colab_link": true
    },
    "kernelspec": {
      "name": "python3",
      "display_name": "Python 3"
    }
  },
  "cells": [
    {
      "cell_type": "markdown",
      "metadata": {
        "id": "view-in-github",
        "colab_type": "text"
      },
      "source": [
        "<a href=\"https://colab.research.google.com/github/gauravdaga06/Python-Study/blob/master/sending_Emails_Using_Python_Smtplib.ipynb\" target=\"_parent\"><img src=\"https://colab.research.google.com/assets/colab-badge.svg\" alt=\"Open In Colab\"/></a>"
      ]
    },
    {
      "cell_type": "code",
      "metadata": {
        "id": "Eve36ZGL410r"
      },
      "source": [
        "\n",
        "import smtplib\n",
        "\n",
        "Email_address = input(\"Enter the Email id through which you want to send email\")   #you can use os.environ here for id and password\n",
        "Email_Password = input(\"Enter the Password\")\n",
        "REmail = input(\"Enter the recievers Email Address\")\n",
        "with smtplib.SMTP('smtp.gmail.com',587) as smtp:\n",
        "    smtp.ehlo()\n",
        "    smtp.starttls()\n",
        "    smtp.ehlo()\n",
        "\n",
        "    smtp.login(Email_address,Email_Password)      #email will be the email and password will be the app password if you have 2 step verification setting\n",
        "\n",
        "\n",
        "    Subject = 'hello gaurav here sending email'\n",
        "    body = 'test'\n",
        "\n",
        "    msg =f'subject: {Subject} \\n\\n {body}'\n",
        "\n",
        "    smtp.sendmail(Email_address,'dagagg@rknec.edu',msg)"
      ],
      "execution_count": null,
      "outputs": []
    },
    {
      "cell_type": "code",
      "metadata": {
        "id": "SvZEx8Ar44WK"
      },
      "source": [
        ""
      ],
      "execution_count": null,
      "outputs": []
    }
  ]
}